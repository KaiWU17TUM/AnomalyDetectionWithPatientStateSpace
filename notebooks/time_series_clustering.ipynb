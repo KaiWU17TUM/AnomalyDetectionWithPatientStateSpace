{
 "cells": [
  {
   "cell_type": "code",
   "execution_count": 1,
   "id": "6acd0715",
   "metadata": {},
   "outputs": [
    {
     "data": {
      "application/json": {
       "ascii": false,
       "bar_format": null,
       "colour": null,
       "elapsed": 0.026314258575439453,
       "initial": 0,
       "n": 0,
       "ncols": null,
       "nrows": 20,
       "postfix": null,
       "prefix": "train-batch.pt",
       "rate": null,
       "total": 89999,
       "unit": "B",
       "unit_divisor": 1000,
       "unit_scale": true
      },
      "application/vnd.jupyter.widget-view+json": {
       "model_id": "88fc48ef47c142ea8359fbd7bcf9c949",
       "version_major": 2,
       "version_minor": 0
      },
      "text/plain": [
       "train-batch.pt:   0%|          | 0.00/90.0k [00:00<?, ?B/s]"
      ]
     },
     "metadata": {},
     "output_type": "display_data"
    },
    {
     "data": {
      "application/json": {
       "ascii": false,
       "bar_format": null,
       "colour": null,
       "elapsed": 0.01880192756652832,
       "initial": 0,
       "n": 0,
       "ncols": null,
       "nrows": 20,
       "postfix": null,
       "prefix": "config.json",
       "rate": null,
       "total": 1214,
       "unit": "B",
       "unit_divisor": 1000,
       "unit_scale": true
      },
      "application/vnd.jupyter.widget-view+json": {
       "model_id": "b583769a2cee4355bd30f879a2a51b44",
       "version_major": 2,
       "version_minor": 0
      },
      "text/plain": [
       "config.json:   0%|          | 0.00/1.21k [00:00<?, ?B/s]"
      ]
     },
     "metadata": {},
     "output_type": "display_data"
    },
    {
     "data": {
      "application/json": {
       "ascii": false,
       "bar_format": null,
       "colour": null,
       "elapsed": 0.020601749420166016,
       "initial": 0,
       "n": 0,
       "ncols": null,
       "nrows": 20,
       "postfix": null,
       "prefix": "pytorch_model.bin",
       "rate": null,
       "total": 150938,
       "unit": "B",
       "unit_divisor": 1000,
       "unit_scale": true
      },
      "application/vnd.jupyter.widget-view+json": {
       "model_id": "810ab3df1a204c51bc38017d27db550d",
       "version_major": 2,
       "version_minor": 0
      },
      "text/plain": [
       "pytorch_model.bin:   0%|          | 0.00/151k [00:00<?, ?B/s]"
      ]
     },
     "metadata": {},
     "output_type": "display_data"
    }
   ],
   "source": [
    "from huggingface_hub import hf_hub_download\n",
    "import torch\n",
    "from transformers import TimeSeriesTransformerModel\n",
    "\n",
    "file = hf_hub_download(\n",
    "    repo_id=\"hf-internal-testing/tourism-monthly-batch\", filename=\"train-batch.pt\", repo_type=\"dataset\"\n",
    ")\n",
    "batch = torch.load(file)\n",
    "\n",
    "model = TimeSeriesTransformerModel.from_pretrained(\"huggingface/time-series-transformer-tourism-monthly\")"
   ]
  },
  {
   "cell_type": "code",
   "execution_count": 3,
   "id": "8632ec2a",
   "metadata": {},
   "outputs": [
    {
     "data": {
      "text/plain": [
       "dict_keys(['static_categorical_features', 'static_real_features', 'past_time_features', 'past_values', 'past_observed_mask', 'future_time_features', 'future_values', 'future_observed_mask'])"
      ]
     },
     "execution_count": 3,
     "metadata": {},
     "output_type": "execute_result"
    }
   ],
   "source": [
    "batch.keys()"
   ]
  },
  {
   "cell_type": "code",
   "execution_count": 5,
   "id": "f5b30d34",
   "metadata": {
    "scrolled": true
   },
   "outputs": [
    {
     "name": "stdout",
     "output_type": "stream",
     "text": [
      "static_categorical_features: tensor([29])\n",
      "static_real_features: tensor([0.])\n",
      "past_time_features  : tensor([[ 0.1364,  2.2175],\n",
      "        [ 0.2273,  2.2201],\n",
      "        [ 0.3182,  2.2227],\n",
      "        [ 0.4091,  2.2253],\n",
      "        [ 0.5000,  2.2279],\n",
      "        [-0.5000,  2.2304],\n",
      "        [-0.4091,  2.2330],\n",
      "        [-0.3182,  2.2355],\n",
      "        [-0.2273,  2.2380],\n",
      "        [-0.1364,  2.2405],\n",
      "        [-0.0455,  2.2430],\n",
      "        [ 0.0455,  2.2455],\n",
      "        [ 0.1364,  2.2480],\n",
      "        [ 0.2273,  2.2504],\n",
      "        [ 0.3182,  2.2529],\n",
      "        [ 0.4091,  2.2553],\n",
      "        [ 0.5000,  2.2577],\n",
      "        [-0.5000,  2.2601],\n",
      "        [-0.4091,  2.2625],\n",
      "        [-0.3182,  2.2648],\n",
      "        [-0.2273,  2.2672],\n",
      "        [-0.1364,  2.2695],\n",
      "        [-0.0455,  2.2718],\n",
      "        [ 0.0455,  2.2742],\n",
      "        [ 0.1364,  2.2765],\n",
      "        [ 0.2273,  2.2788],\n",
      "        [ 0.3182,  2.2810],\n",
      "        [ 0.4091,  2.2833],\n",
      "        [ 0.5000,  2.2856],\n",
      "        [-0.5000,  2.2878],\n",
      "        [-0.4091,  2.2900],\n",
      "        [-0.3182,  2.2923],\n",
      "        [-0.2273,  2.2945],\n",
      "        [-0.1364,  2.2967],\n",
      "        [-0.0455,  2.2989],\n",
      "        [ 0.0455,  2.3010],\n",
      "        [ 0.1364,  2.3032],\n",
      "        [ 0.2273,  2.3054],\n",
      "        [ 0.3182,  2.3075],\n",
      "        [ 0.4091,  2.3096],\n",
      "        [ 0.5000,  2.3118],\n",
      "        [-0.5000,  2.3139],\n",
      "        [-0.4091,  2.3160],\n",
      "        [-0.3182,  2.3181],\n",
      "        [-0.2273,  2.3201],\n",
      "        [-0.1364,  2.3222],\n",
      "        [-0.0455,  2.3243],\n",
      "        [ 0.0455,  2.3263],\n",
      "        [ 0.1364,  2.3284],\n",
      "        [ 0.2273,  2.3304],\n",
      "        [ 0.3182,  2.3324],\n",
      "        [ 0.4091,  2.3345],\n",
      "        [ 0.5000,  2.3365],\n",
      "        [-0.5000,  2.3385],\n",
      "        [-0.4091,  2.3404],\n",
      "        [-0.3182,  2.3424],\n",
      "        [-0.2273,  2.3444],\n",
      "        [-0.1364,  2.3464],\n",
      "        [-0.0455,  2.3483],\n",
      "        [ 0.0455,  2.3502],\n",
      "        [ 0.1364,  2.3522]])\n",
      "past_values         : tensor([19081., 20436., 27477., 26577., 23441., 21675., 28648., 31105., 24632.,\n",
      "        16762., 22160., 26744., 19850., 19911., 27126., 26527., 24537., 22487.,\n",
      "        31676., 28884., 23651., 18219., 25578., 29338., 21142., 18754., 28269.,\n",
      "        27426., 29465., 22066., 33252., 29677., 26035., 18457., 26513., 29087.,\n",
      "        22207., 20118., 29521., 30643., 29319., 25602., 32209., 29594., 25532.,\n",
      "        20470., 27059., 32769., 24595., 22622., 28194., 28861., 32086., 28568.,\n",
      "        37583., 35016., 31542., 24441., 29401., 34654., 25116.])\n",
      "past_observed_mask  : tensor([1., 1., 1., 1., 1., 1., 1., 1., 1., 1., 1., 1., 1., 1., 1., 1., 1., 1.,\n",
      "        1., 1., 1., 1., 1., 1., 1., 1., 1., 1., 1., 1., 1., 1., 1., 1., 1., 1.,\n",
      "        1., 1., 1., 1., 1., 1., 1., 1., 1., 1., 1., 1., 1., 1., 1., 1., 1., 1.,\n",
      "        1., 1., 1., 1., 1., 1., 1.])\n",
      "future_time_features: tensor([[ 0.2273,  2.3541],\n",
      "        [ 0.3182,  2.3560],\n",
      "        [ 0.4091,  2.3579],\n",
      "        [ 0.5000,  2.3598],\n",
      "        [-0.5000,  2.3617],\n",
      "        [-0.4091,  2.3636],\n",
      "        [-0.3182,  2.3655],\n",
      "        [-0.2273,  2.3674],\n",
      "        [-0.1364,  2.3692],\n",
      "        [-0.0455,  2.3711],\n",
      "        [ 0.0455,  2.3729],\n",
      "        [ 0.1364,  2.3747],\n",
      "        [ 0.2273,  2.3766],\n",
      "        [ 0.3182,  2.3784],\n",
      "        [ 0.4091,  2.3802],\n",
      "        [ 0.5000,  2.3820],\n",
      "        [-0.5000,  2.3838],\n",
      "        [-0.4091,  2.3856],\n",
      "        [-0.3182,  2.3874],\n",
      "        [-0.2273,  2.3892],\n",
      "        [-0.1364,  2.3909],\n",
      "        [-0.0455,  2.3927],\n",
      "        [ 0.0455,  2.3945],\n",
      "        [ 0.1364,  2.3962]])\n",
      "future_values       : tensor([22816., 35055., 33590., 36115., 32583., 41539., 39738., 31058., 25793.,\n",
      "        35643., 37764., 30117., 27120., 36372., 34244., 45088., 34835., 41628.,\n",
      "        42377., 34702., 30253., 42358., 43828., 33141.])\n",
      "future_observed_mask: tensor([1., 1., 1., 1., 1., 1., 1., 1., 1., 1., 1., 1., 1., 1., 1., 1., 1., 1.,\n",
      "        1., 1., 1., 1., 1., 1.])\n"
     ]
    }
   ],
   "source": [
    "for k in batch.keys():\n",
    "    print(f'{k:<20}: {batch[k][0]}')"
   ]
  },
  {
   "cell_type": "code",
   "execution_count": null,
   "id": "eaeb821d",
   "metadata": {},
   "outputs": [],
   "source": []
  },
  {
   "cell_type": "code",
   "execution_count": 6,
   "id": "f60118ff",
   "metadata": {},
   "outputs": [],
   "source": [
    "# during training, one provides both past and future values\n",
    "# as well as possible additional features\n",
    "outputs = model(\n",
    "    past_values=batch[\"past_values\"],\n",
    "    past_time_features=batch[\"past_time_features\"],\n",
    "    past_observed_mask=batch[\"past_observed_mask\"],\n",
    "    static_categorical_features=batch[\"static_categorical_features\"],\n",
    "    static_real_features=batch[\"static_real_features\"],\n",
    "    future_values=batch[\"future_values\"],\n",
    "    future_time_features=batch[\"future_time_features\"],\n",
    ")\n",
    "\n",
    "last_hidden_state = outputs.last_hidden_state"
   ]
  },
  {
   "cell_type": "code",
   "execution_count": 8,
   "id": "924f6d35",
   "metadata": {},
   "outputs": [
    {
     "data": {
      "text/plain": [
       "torch.Size([64, 24, 26])"
      ]
     },
     "execution_count": 8,
     "metadata": {},
     "output_type": "execute_result"
    }
   ],
   "source": [
    "last_hidden_state.shape"
   ]
  },
  {
   "cell_type": "code",
   "execution_count": null,
   "id": "d4db42be",
   "metadata": {
    "collapsed": true
   },
   "outputs": [],
   "source": [
    "outputs. "
   ]
  },
  {
   "cell_type": "code",
   "execution_count": null,
   "id": "d24d2329",
   "metadata": {},
   "outputs": [],
   "source": []
  },
  {
   "cell_type": "code",
   "execution_count": null,
   "id": "c2252578",
   "metadata": {},
   "outputs": [],
   "source": []
  },
  {
   "cell_type": "code",
   "execution_count": null,
   "id": "ac83b494",
   "metadata": {},
   "outputs": [],
   "source": []
  },
  {
   "cell_type": "code",
   "execution_count": null,
   "id": "1ebf88c1",
   "metadata": {},
   "outputs": [],
   "source": []
  },
  {
   "cell_type": "code",
   "execution_count": null,
   "id": "de35fe5f",
   "metadata": {},
   "outputs": [],
   "source": []
  },
  {
   "cell_type": "markdown",
   "id": "35df3b4e",
   "metadata": {},
   "source": [
    "# Data Loader"
   ]
  },
  {
   "cell_type": "code",
   "execution_count": 9,
   "id": "69a35a44",
   "metadata": {},
   "outputs": [],
   "source": [
    "import os\n",
    "import torch\n",
    "import pandas as pd\n",
    "import numpy as np\n",
    "import matplotlib.pyplot as plt\n",
    "from torch.utils.data import Dataset, DataLoader\n",
    "from torchvision import transforms, utils\n",
    "\n",
    "import warnings\n",
    "warnings.filterwarnings(\"ignore\")\n",
    "\n",
    "plt.ion()  "
   ]
  },
  {
   "cell_type": "code",
   "execution_count": null,
   "id": "83df975e",
   "metadata": {},
   "outputs": [],
   "source": [
    "# Transform function classes\n",
    "\n",
    "class CatEncoder(object):\n",
    "    \"\"\"Rescale the image in a sample to a given size.\n",
    "\n",
    "    Args:\n",
    "        output_size (tuple or int): Desired output size. If tuple, output is\n",
    "            matched to output_size. If int, smaller of image edges is matched\n",
    "            to output_size keeping aspect ratio the same.\n",
    "    \"\"\"\n",
    "\n",
    "    def __init__(self, output_size):\n",
    "        assert isinstance(output_size, (int, tuple))\n",
    "        self.output_size = output_size\n",
    "\n",
    "    def __call__(self, sample):\n",
    "        image, landmarks = sample['image'], sample['landmarks']\n",
    "\n",
    "        h, w = image.shape[:2]\n",
    "        if isinstance(self.output_size, int):\n",
    "            if h > w:\n",
    "                new_h, new_w = self.output_size * h / w, self.output_size\n",
    "            else:\n",
    "                new_h, new_w = self.output_size, self.output_size * w / h\n",
    "        else:\n",
    "            new_h, new_w = self.output_size\n",
    "\n",
    "        new_h, new_w = int(new_h), int(new_w)\n",
    "\n",
    "        img = transform.resize(image, (new_h, new_w))\n",
    "\n",
    "        # h and w are swapped for landmarks because for images,\n",
    "        # x and y axes are axis 1 and 0 respectively\n",
    "        landmarks = landmarks * [new_w / w, new_h / h]\n",
    "\n",
    "        return {'image': img, 'landmarks': landmarks}"
   ]
  },
  {
   "cell_type": "code",
   "execution_count": null,
   "id": "f8e797c2",
   "metadata": {},
   "outputs": [],
   "source": [
    "class HIRIDDataset(Dataset):\n",
    "    \"\"\"Face Landmarks dataset.\"\"\"\n",
    "\n",
    "    def __init__(self, data_file, root_dir, transform=None):\n",
    "        \"\"\"\n",
    "        Arguments:\n",
    "            csv_file (string): Path to the csv file with annotations.\n",
    "            root_dir (string): Directory with all the images.\n",
    "            transform (callable, optional): Optional transform to be applied\n",
    "                on a sample.\n",
    "        \"\"\"\n",
    "        self.landmarks_frame = pd.read_csv(csv_file)\n",
    "        self.root_dir = root_dir\n",
    "        self.transform = transform\n",
    "\n",
    "    def __len__(self):\n",
    "        return len(self.landmarks_frame)\n",
    "\n",
    "    def __getitem__(self, idx):\n",
    "        if torch.is_tensor(idx):\n",
    "            idx = idx.tolist()\n",
    "\n",
    "        img_name = os.path.join(self.root_dir,\n",
    "                                self.landmarks_frame.iloc[idx, 0])\n",
    "        image = io.imread(img_name)\n",
    "        landmarks = self.landmarks_frame.iloc[idx, 1:]\n",
    "        landmarks = np.array([landmarks], dtype=float).reshape(-1, 2)\n",
    "        sample = {'image': image, 'landmarks': landmarks}\n",
    "\n",
    "        if self.transform:\n",
    "            sample = self.transform(sample)\n",
    "\n",
    "        return sample\n",
    "    \n",
    "    def __get_missing_data_mask(self):\n",
    "        mask_missing = pd.isnull(df_107_physio)\n",
    "        return mask_missing\n",
    "    \n",
    "    def __get_pharma_mask(self, df_pharma):\n",
    "        mask_pharma = (~pd.isnull(df_pharma)).any(1).values\n",
    "#         ts_pharma = sample_pharma.index.get_level_values(2)[mask_pharma].to_numpy()\n",
    "        return mask_pharma"
   ]
  },
  {
   "cell_type": "markdown",
   "id": "f91d9fcb",
   "metadata": {},
   "source": [
    "# Train test split"
   ]
  },
  {
   "cell_type": "code",
   "execution_count": null,
   "id": "df6dc388",
   "metadata": {},
   "outputs": [],
   "source": [
    "data = "
   ]
  },
  {
   "cell_type": "code",
   "execution_count": null,
   "id": "cc652274",
   "metadata": {},
   "outputs": [],
   "source": []
  },
  {
   "cell_type": "markdown",
   "id": "5fb47fbf",
   "metadata": {},
   "source": [
    "# LSTM Autoencoder"
   ]
  },
  {
   "cell_type": "code",
   "execution_count": null,
   "id": "11133ef2",
   "metadata": {},
   "outputs": [],
   "source": []
  }
 ],
 "metadata": {
  "kernelspec": {
   "display_name": "Python 3 (ipykernel)",
   "language": "python",
   "name": "python3"
  },
  "language_info": {
   "codemirror_mode": {
    "name": "ipython",
    "version": 3
   },
   "file_extension": ".py",
   "mimetype": "text/x-python",
   "name": "python",
   "nbconvert_exporter": "python",
   "pygments_lexer": "ipython3",
   "version": "3.8.0"
  }
 },
 "nbformat": 4,
 "nbformat_minor": 5
}
